{
 "cells": [
  {
   "cell_type": "markdown",
   "source": [
    "# Capstone Telegram Chatbot"
   ],
   "metadata": {
    "tags": [],
    "cell_id": "00000-e164a930-6a17-402e-ae1f-a4f502f191e8",
    "deepnote_cell_type": "markdown"
   }
  },
  {
   "cell_type": "markdown",
   "source": [
    "This notebook is used to guide you in working on building the Telegram chatbot apps for Algoritma Academy Data Analytics Specialization Capstone Project.\r\n",
    "\r\n",
    "**MAIN GOAL:** Create a bot that can provide report on Facebook daily ads for different marketing campaign. Here is an example: https://t.me/algo_capstone_telebot\r\n",
    "\r\n",
    "![](assets/readme/telegram-bot.png)\r\n",
    "\r\n",
    "---\r\n",
    "\r\n",
    "There are several conventions we used in this notebook:\r\n",
    "\r\n",
    "- **TO DO** = Section need to be completed\r\n",
    "- **EXPECTED OUTPUT** = Reference output for coding section\r\n",
    "- **CHECKPOINT** = Review and continue your coding in the Python script file `.py`\r\n",
    "- **NOTE** = Additional information that is important for you to know"
   ],
   "metadata": {
    "tags": [],
    "cell_id": "00001-5bd5ce8f-c78f-4e82-9290-6b796df69c35",
    "deepnote_cell_type": "markdown"
   }
  },
  {
   "cell_type": "markdown",
   "source": [
    "# Setup"
   ],
   "metadata": {
    "tags": [],
    "cell_id": "00002-9a9b3a5c-c35a-49c7-836b-fb72a980e492",
    "deepnote_cell_type": "markdown"
   }
  },
  {
   "cell_type": "markdown",
   "source": [
    "## Virtual Environment"
   ],
   "metadata": {
    "tags": [],
    "cell_id": "00003-aaee0fd4-9241-4f9b-878d-ccab05ad9044",
    "deepnote_cell_type": "markdown"
   }
  },
  {
   "cell_type": "markdown",
   "source": [
    "There are few prerequisites needed for this project. First, you will need to prepare a new `conda` environment installed with all package dependencies. \r\n",
    "\r\n",
    "**TO DO:**\r\n",
    "\r\n",
    "Please follow through with the following command to create a new `conda` environment and install the dependencies:\r\n",
    "\r\n",
    "1. Create a new `conda` environment named **capstone-telebot** using Python version 3.8 and activate it:\r\n",
    "    ```\r\n",
    "    conda create -n capstone-telebot python=3.8\r\n",
    "    conda activate capstone-telebot\r\n",
    "    ```\r\n",
    "\r\n",
    "2. Since it is beneficial for us to create a draft using Jupyter Notebook, let's also create an IPython Kernel using the following command:\r\n",
    "    ```\r\n",
    "    pip install ipykernel\r\n",
    "    python -m ipykernel install --user --name=capstone-telebot\r\n",
    "    ```\r\n",
    "\r\n",
    "3. Change the directory of your terminal (or Anaconda Prompt) to the downloaded repository:\r\n",
    "    ```\r\n",
    "    cd <PATH_TO_FOLDER>\r\n",
    "    ```\r\n",
    "\r\n",
    "    Example: `cd C:\\Users\\USER\\Desktop\\Algoritma\\telebot-master`\r\n",
    "\r\n",
    "4. Install the dependencies:\r\n",
    "    ```\r\n",
    "    pip install -r requirements.txt\r\n",
    "    ```\r\n",
    "\r\n",
    "    If you encounter error during installation, make sure you have a stable connection and turn off your firewall during installation. \r\n",
    "\r\n",
    "5. (**For Windows user only**) Install Windows API for Python inside the environment:\r\n",
    "    ```\r\n",
    "    conda install -c conda-forge pywin32\r\n",
    "    ```"
   ],
   "metadata": {
    "tags": [],
    "cell_id": "00004-799cf6bf-d386-4c85-874e-3dac3baa5aa4",
    "deepnote_cell_type": "markdown"
   }
  },
  {
   "cell_type": "markdown",
   "source": [
    "## Telegram Bot API"
   ],
   "metadata": {
    "tags": [],
    "cell_id": "00005-b3e4b6fd-e12f-47f4-983a-347bea1eff5d",
    "deepnote_cell_type": "markdown"
   }
  },
  {
   "cell_type": "markdown",
   "source": [
    "**API** stands for *Application Programming Interface*. It is a set of functions and procedures that allow for the creation of applications that access data and features of other applications, services, or operating systems. \n",
    "\n",
    "Telegram allows user to connect bots to their system by providing **Telegram Bot API**. Even better, to create bots in Telegram, you're not required set up the API connection manually. All you need to do is to talk to [BotFather](https://t.me/botfather), a bot provided by Telegram to help their users to create new bots or change the bots settings.\n",
    "\n",
    "**TO DO:**\n",
    "\n",
    "To get started, make sure you have registered a Telegram account from your mobile phone (you can't create new Telegram account through its desktop app). Once you've registered, you can access its desktop app through  https://web.telegram.org/ and follow the steps below:\n",
    "\n",
    "1. Start a chat with [BotFather](https://t.me/botfather)\n",
    "2. Use the **/newbot** command to create a new bot. The BotFather will ask you for a name and username. For the username, make sure you follow this format: *DACP\\_(BATCH)_(NAME)* e.g. DACP_PHOENIX_TOMY.\n",
    "3. Once you've completed, BotFather will generate an authorization token for your new bot. **NOTE:** Please do treat your token as your personal password, keep it secure by not sharing it to another person.\n",
    "4. Optionally, you can set your bot information using the following commands:\n",
    "    - **/setdescription** - change bot description\n",
    "    - **/setabouttext** - change bot about info\n",
    "    - **/setuserpic** - change bot profile photo"
   ],
   "metadata": {
    "tags": [],
    "cell_id": "00006-96e136b1-bab4-43b8-82d4-a94239e5895c",
    "deepnote_cell_type": "markdown"
   }
  },
  {
   "cell_type": "markdown",
   "source": [
    "## Store Your Token Securely"
   ],
   "metadata": {
    "tags": [],
    "cell_id": "00007-dc2b3e58-af0e-4742-a540-9acf9dbb1ea8",
    "deepnote_cell_type": "markdown"
   }
  },
  {
   "cell_type": "markdown",
   "source": [
    "The program will later need to access Telegram bot API via token. Usually we store a value as a variable explicitly, for example: `variable = \"value\"`. \r\n",
    "\r\n",
    "**TO DO:**\r\n",
    "\r\n",
    "To avoid the token being hardcoded and exposed to the public, you are required to create an environment variable called `TOKEN`:\r\n",
    "\r\n",
    "1. Open `.env` file inside the project folder. You can use any text editor application, such as notepad.\r\n",
    "2. Paste your API token inside and assign it to `TOKEN`\r\n",
    "\r\n",
    "    ```\r\n",
    "    TOKEN = \"PASTE_YOUR_TOKEN_HERE\"\r\n",
    "    ```\r\n",
    "\r\n",
    "3. Use the following code to import the `TOKEN` variable from `.env` to your Python environment."
   ],
   "metadata": {
    "tags": [],
    "cell_id": "00008-baa4d43f-4ba3-4861-97e0-cc847c7346c8",
    "deepnote_cell_type": "markdown"
   }
  },
  {
   "cell_type": "code",
   "execution_count": null,
   "source": [
    "from dotenv import load_dotenv\r\n",
    "import os\r\n",
    "\r\n",
    "load_dotenv()\r\n",
    "TOKEN = os.environ['TOKEN']\r\n",
    "\r\n",
    "print(f'Length of TOKEN: {len(TOKEN)} characters')"
   ],
   "outputs": [],
   "metadata": {
    "tags": [],
    "deepnote_to_be_reexecuted": false,
    "source_hash": "df4fd229",
    "execution_start": 1629360585861,
    "execution_millis": 10,
    "cell_id": "00009-0566b61e-fb7a-499b-b969-1ab0b2de8ae2",
    "output_cleared": true,
    "deepnote_cell_type": "code"
   }
  },
  {
   "cell_type": "markdown",
   "source": [
    "**NOTE:** Don't ever print out the `TOKEN` variable inside your notebook to avoid exposing your API token to the public.\n",
    "\n",
    "> Package dependencies: [python-dotenv](https://pypi.org/project/python-dotenv/)"
   ],
   "metadata": {
    "tags": [],
    "cell_id": "00010-884255d1-a9da-4079-8679-5857655e294d",
    "deepnote_cell_type": "markdown"
   }
  },
  {
   "cell_type": "markdown",
   "source": [
    "# Chatbot Functionalities"
   ],
   "metadata": {
    "tags": [],
    "cell_id": "00011-1cf7f460-a362-42a2-a0f3-5f6785697f90",
    "deepnote_cell_type": "markdown"
   }
  },
  {
   "cell_type": "markdown",
   "source": [
    "## Basic Functionalities"
   ],
   "metadata": {
    "tags": [],
    "cell_id": "00012-4177651a-ba68-42c9-b340-09f2cbeba565",
    "deepnote_cell_type": "markdown"
   }
  },
  {
   "cell_type": "markdown",
   "source": [
    "In this section, we are going to learn how to create a Telegram chatbot using the `pyTelegramBotAPI` package."
   ],
   "metadata": {
    "tags": [],
    "cell_id": "00013-2ee858a3-d151-4b1b-8324-7fdc59e2927c",
    "deepnote_cell_type": "markdown"
   }
  },
  {
   "cell_type": "markdown",
   "source": [
    "### Simple bot"
   ],
   "metadata": {
    "tags": [],
    "cell_id": "00014-49690a03-0522-474b-9045-a101124c5555",
    "deepnote_cell_type": "markdown"
   }
  },
  {
   "cell_type": "markdown",
   "source": [
    "The `TeleBot` class encapsulates all API calls in a single class. It provides functions such as `send_message`, `send_document`, and also several ways to listen for incoming messages."
   ],
   "metadata": {
    "tags": [],
    "cell_id": "00015-b54813ba-3d1f-4b58-8899-472c79aba7e3",
    "deepnote_cell_type": "markdown"
   }
  },
  {
   "cell_type": "code",
   "execution_count": null,
   "source": [
    "import telebot\r\n",
    "bot = telebot.TeleBot(TOKEN)"
   ],
   "outputs": [],
   "metadata": {
    "tags": [],
    "deepnote_to_be_reexecuted": false,
    "source_hash": "cc0c6d4b",
    "execution_start": 1629360585862,
    "execution_millis": 0,
    "cell_id": "00016-955b477c-0e76-45c1-baef-27a3542ddbb5",
    "output_cleared": true,
    "deepnote_cell_type": "code"
   }
  },
  {
   "cell_type": "markdown",
   "source": [
    "After defining the `bot` object, we need to register **message handlers** which define filters for a `message` must pass. If a `message` passes the filter, the function is triggered and the incoming `message` is passed as an argument.\n",
    "\n",
    "The code below define `send_welcome` function which will be called if a user triggers the `bot` with command **/start** or **/help**. Then, `bot` responds to the incoming `message` by sending a static `\"Hello World!\"` text message.\n",
    "\n",
    "**NOTE:** The function can have an arbitrary name, however, it must have only one parameter: `message`"
   ],
   "metadata": {
    "tags": [],
    "cell_id": "00017-f0163671-9282-4e0a-8dec-6d77af2559f0",
    "deepnote_cell_type": "markdown"
   }
  },
  {
   "cell_type": "code",
   "execution_count": null,
   "source": [
    "@bot.message_handler(commands=['start', 'help'])\r\n",
    "def send_welcome(message):\r\n",
    "    bot.reply_to(message, \"Hello World!\")"
   ],
   "outputs": [],
   "metadata": {
    "tags": [],
    "deepnote_to_be_reexecuted": false,
    "source_hash": "979a847d",
    "execution_start": 1629360585862,
    "execution_millis": 0,
    "cell_id": "00018-291cc15c-e8cb-4c6c-98ad-41e84205147f",
    "output_cleared": true,
    "deepnote_cell_type": "code"
   }
  },
  {
   "cell_type": "markdown",
   "source": [
    "We use `.polling()` method to start the `bot`. Run the following cell code and try sending command **/start** or **/help** to your Telegram bot. The code must be running to keep the bot active. If you wish to run another cell code, please click the \"⬛\" button to stop the code execution."
   ],
   "metadata": {
    "tags": [],
    "cell_id": "00019-64939062-f512-4912-ba29-db200ee03a05",
    "deepnote_cell_type": "markdown"
   }
  },
  {
   "cell_type": "code",
   "execution_count": null,
   "source": [
    "# bot.polling()"
   ],
   "outputs": [],
   "metadata": {
    "tags": [],
    "deepnote_to_be_reexecuted": false,
    "source_hash": "639da4b0",
    "execution_start": 1629360585863,
    "execution_millis": 22,
    "cell_id": "00020-a469c286-31d8-4126-89e6-9029f9ba440c",
    "output_cleared": true,
    "deepnote_cell_type": "code"
   }
  },
  {
   "cell_type": "markdown",
   "source": [
    "All together, a simple bot may only contain several lines of code as follows:\n",
    "\n",
    "```\n",
    "import telebot\n",
    "bot = telebot.TeleBot(TOKEN)\n",
    "\n",
    "@bot.message_handler(commands=['start', 'help'])\n",
    "def send_welcome(message):\n",
    "    bot.reply_to(message, \"Hello World!\")\n",
    "\n",
    "bot.polling()\n",
    "```\n",
    "\n",
    "> Package dependencies: [pyTelegramBotAPI](https://github.com/eternnoir/pyTelegramBotAPI)"
   ],
   "metadata": {
    "tags": [],
    "cell_id": "00021-c55308df-af6c-4b79-b2ab-0de595002121",
    "deepnote_cell_type": "markdown"
   }
  },
  {
   "cell_type": "markdown",
   "source": [
    "### Understanding Message Object"
   ],
   "metadata": {
    "tags": [],
    "cell_id": "00022-b543afa9-d8a7-4fcc-aced-a3ed6688ecdc",
    "deepnote_cell_type": "markdown"
   }
  },
  {
   "cell_type": "markdown",
   "source": [
    "Of course, at this point, we are not satisfied with a simple bot that just sends static text like the one we have created above. To interact dynamically with user information, let's dive deep to understand what a `message` object is.\n",
    "\n",
    "To make it easier for you to play around, we have pickled a `message` object namely `message_object.pkl`. It is an object of class `telebot.types.Message` which stores a lot of information from a message. Detailed description can be found on [Telegram Bot API Documentation: Message](https://core.telegram.org/bots/api#message)."
   ],
   "metadata": {
    "tags": [],
    "cell_id": "00023-cc4c44d7-97a6-4639-aeba-ac8ff5125a3e",
    "deepnote_cell_type": "markdown"
   }
  },
  {
   "cell_type": "code",
   "execution_count": null,
   "source": [
    "import pickle\r\n",
    "\r\n",
    "with open('cache/message_object.pkl', 'rb') as f:\r\n",
    "    message = pickle.load(f)\r\n",
    "    print(type(message)) # print object type\r\n",
    "    print(str(message)[:1000]) # print only the first 1000 characters of message content"
   ],
   "outputs": [],
   "metadata": {
    "tags": [],
    "deepnote_to_be_reexecuted": false,
    "source_hash": "e0f56210",
    "execution_start": 1629360585885,
    "execution_millis": 14,
    "cell_id": "00024-bead9717-469c-40e5-be42-fcfe42964011",
    "output_cleared": true,
    "deepnote_cell_type": "code"
   }
  },
  {
   "cell_type": "markdown",
   "source": [
    "The `message` object is similar to Python dictionary, it stores **key: value** pairs. To access a value inside `message` object, we can use a dot notation (`.`) - just like accessing an attribute. Consider the following:\r\n",
    "\r\n",
    "```{python}\r\n",
    "{\r\n",
    "    'from_user': {\r\n",
    "        'id': 727286868,\r\n",
    "        'is_bot': False,\r\n",
    "        'first_name': 'Algoritma',\r\n",
    "        'username': 'AlgoCapstone',\r\n",
    "        'last_name': None\r\n",
    "        }\r\n",
    "}\r\n",
    "```\r\n",
    "\r\n",
    "For example: let's say we want to get the username \"AlgoCapstone\", then we can use `message.from_user.username`"
   ],
   "metadata": {}
  },
  {
   "cell_type": "code",
   "execution_count": null,
   "source": [
    "# play around with the message object\r\n",
    "message.from_user.username"
   ],
   "outputs": [],
   "metadata": {}
  },
  {
   "cell_type": "markdown",
   "source": [
    "Next, we need to extract several attributes from the `message` object:\r\n",
    "\r\n",
    "- Attribute `chat`: Conversation the message belongs to.\r\n",
    "- Attribute `from_user`: Detailed user information of the sender, such as `id`, `username`, `first_name`, `last_name`, etc.\r\n",
    "- Attribute `text`: Text messages that the sender sends to the bot.\r\n",
    "\r\n",
    "**TO DO:**\r\n",
    "\r\n",
    "Try to create the following variables, containing the relevant information from a `message` object:\r\n",
    "\r\n",
    "- Variable `chat_id`: contains `id` which is an unique identifier of attribute `chat`, will be used when sending a chat.\r\n",
    "- Variable `full_name`: contains the full name (`first_name` and `last_name`) of the sender, but if the `last_name` is `None` then it only contains the `first_name`.\r\n",
    "- Variable `message_text`: contains the `text` of the sender's message."
   ],
   "metadata": {
    "tags": [],
    "cell_id": "00025-1a957d08-4e96-4ef8-859d-4344df18feae",
    "deepnote_cell_type": "markdown"
   }
  },
  {
   "cell_type": "code",
   "execution_count": null,
   "source": [
    "# TO DO: chat_id, full_name, message_text\r\n",
    "chat_id = ___\r\n",
    "\r\n",
    "first_name = ___\r\n",
    "last_name = ___\r\n",
    "full_name = f'{first_name} {last_name}' if last_name is not None else first_name\r\n",
    "\r\n",
    "message_text = ___\r\n",
    "\r\n",
    "\r\n",
    "# DO NOT EDIT (FOR CHECKING PURPOSE)\r\n",
    "print(f\"Chat ID: {chat_id}\")\r\n",
    "print(f\"Sender Full Name: {full_name}\")\r\n",
    "print(f\"Message: {message_text}\")"
   ],
   "outputs": [],
   "metadata": {
    "tags": [],
    "deepnote_to_be_reexecuted": false,
    "source_hash": "d0d506fc",
    "execution_start": 1629360585886,
    "execution_millis": 64,
    "cell_id": "00026-9665f9a0-5544-4f85-9594-cc7bd5c37b86",
    "output_cleared": true,
    "deepnote_cell_type": "code"
   }
  },
  {
   "cell_type": "markdown",
   "source": [
    "**EXPECTED OUTPUT**\r\n",
    "\r\n",
    "```\r\n",
    "Chat ID: 727286868\r\n",
    "Sender Full Name: Algoritma\r\n",
    "Message: /help\r\n",
    "```"
   ],
   "metadata": {
    "tags": [],
    "cell_id": "00027-764763cf-37cf-4c54-ae47-3afb69397b4d",
    "deepnote_cell_type": "markdown"
   }
  },
  {
   "cell_type": "markdown",
   "source": [
    "### Understanding `Template` text"
   ],
   "metadata": {
    "tags": [],
    "cell_id": "00028-9ee36a57-4421-4270-b4bc-0baf1f3ec85b",
    "deepnote_cell_type": "markdown"
   }
  },
  {
   "cell_type": "markdown",
   "source": [
    "A chatbot will usually reply to your message with a template text. The text can be explicitly written in script code as a string like `\"Hello World!\"` as we wrote earlier. When the text is too long, it is not a good practice because we have to scan through our code when we want to make a small change in the text.\r\n",
    "\r\n",
    "A common good practice is that we prepare `.txt` file containing a template text then Python will read the file and process it as a string. The following snippet text is from `template_text/example.txt`:\r\n",
    "\r\n",
    "```\r\n",
    "This is an example file. You can substitute a key with a value: ${KEY}. Try to read this file using Python.\r\n",
    "```\r\n",
    "\r\n",
    "The syntax `${KEY}` is used to indicate which part of the text that will be substituted. The code below shows how we can read a text file, parse it into a `Template` object, and then substitute the variable with a value."
   ],
   "metadata": {
    "tags": [],
    "cell_id": "00029-ef649889-6f36-469a-931b-4b2385ab4576",
    "deepnote_cell_type": "markdown"
   }
  },
  {
   "cell_type": "code",
   "execution_count": null,
   "source": [
    "from string import Template\r\n",
    "\r\n",
    "# read text from folder template_text, file example.txt\r\n",
    "with open('template_text/example.txt', mode='r', encoding='utf-8') as f:\r\n",
    "    content = f.read()\r\n",
    "    temp = Template(content)\r\n",
    "    example = temp.substitute(KEY = \"The KEY will be substituted\")\r\n",
    "\r\n",
    "print(example)"
   ],
   "outputs": [],
   "metadata": {}
  },
  {
   "cell_type": "markdown",
   "source": [
    "**TO DO:**\r\n",
    "\r\n",
    "Try to substitute `${FULL_NAME}` from `template_text/welcome.txt`. Be careful! Instead of substituting it with a static text, such as `FULL_NAME = \"Algoritma\"`, try substituting it with `full_name` variable that you've created in the previous section."
   ],
   "metadata": {}
  },
  {
   "cell_type": "code",
   "execution_count": null,
   "source": [
    "from string import Template\r\n",
    "\r\n",
    "# TO DO: subtitute text with variable\r\n",
    "with open('template_text/welcome.txt', mode='r', encoding='utf-8') as f:\r\n",
    "    content = f.read()\r\n",
    "    temp = Template(content)\r\n",
    "    welcome = temp.substitute(___ = ___)\r\n",
    "\r\n",
    "print(welcome)"
   ],
   "outputs": [],
   "metadata": {
    "tags": [],
    "deepnote_to_be_reexecuted": false,
    "source_hash": "851cfb7",
    "execution_start": 1629360585927,
    "execution_millis": 23,
    "cell_id": "00030-ea5d7107-b3b2-4db4-a7ff-7034ed0fab79",
    "output_cleared": true,
    "deepnote_cell_type": "code"
   }
  },
  {
   "cell_type": "markdown",
   "source": [
    "**EXPECTED OUTPUT:**\r\n",
    "\r\n",
    "```\r\n",
    "Hello *Algoritma*, I can help you to provide a report on Facebook daily ads for different marketing campaigns.\r\n",
    "\r\n",
    "You can control me by sending these commands:\r\n",
    "\r\n",
    "*Main Functionality*\r\n",
    "/summary - Generate text report for selected campaign ID\r\n",
    "/plot - Visualize report per age group for selected campaign ID\r\n",
    "\r\n",
    "*Information*\r\n",
    "/help - List of available commands\r\n",
    "/about - About me\r\n",
    "```"
   ],
   "metadata": {
    "tags": [],
    "cell_id": "00031-65de9618-0991-43ee-bff5-d027aca19ba0",
    "deepnote_cell_type": "markdown"
   }
  },
  {
   "cell_type": "markdown",
   "source": [
    "**TO DO:**\r\n",
    "\r\n",
    "Try to substitute the following key from `template_text/about.txt`:\r\n",
    "- `${STUDENT_NAME}`: Your full name\r\n",
    "- `${BATCH_ACADEMY}`: Your batch in Algoritma Academy, for example: Phoenix Day\r\n",
    "- `${GITHUB_REPO_LINK}`: Your link to the GitHub Repository\r\n",
    "\r\n",
    "For this section, you can substitute each key with a static text, such as `STUDENT_NAME = \"Your Name\"`."
   ],
   "metadata": {}
  },
  {
   "cell_type": "code",
   "execution_count": null,
   "source": [
    "from string import Template\r\n",
    "\r\n",
    "# TO DO: subtitute text with static values\r\n",
    "with open('template_text/about.txt', mode='r', encoding='utf-8') as f:\r\n",
    "    content = f.read()\r\n",
    "    temp = Template(content)\r\n",
    "    about = temp.substitute(\r\n",
    "        ___ = ___,\r\n",
    "        ___ = ___,\r\n",
    "        ___ = ___\r\n",
    "    )\r\n",
    "\r\n",
    "print(about)"
   ],
   "outputs": [],
   "metadata": {}
  },
  {
   "cell_type": "markdown",
   "source": [
    "---\r\n",
    "\r\n",
    "📍 **CHECKPOINT 1**\r\n",
    "\r\n",
    "At this point, you have already understood how to:\r\n",
    "\r\n",
    "- Create a simple bot, sending a static text message\r\n",
    "- Access certain attributes of a `message` object\r\n",
    "- Utilize `Template` object to prepare template text\r\n",
    "\r\n",
    "Now, complete the following function inside `bot_local.py`:\r\n",
    "\r\n",
    "- `send_welcome` will send a greeting to the sender with their full name and providing a list of available commands. This function will be triggered with **/start** or **/help** command.\r\n",
    "\r\n",
    "![](assets/readme/start.png)\r\n",
    "\r\n",
    "- `send_about` will send information about you as the developer. Put your name, batch name, and GitHub repository link using string. This function will be triggered with the **/about** command.\r\n",
    "\r\n",
    "![](assets/readme/about.png)\r\n",
    "\r\n",
    "Run your Python script and test how your Telegram bot works.\r\n",
    "\r\n",
    "---"
   ],
   "metadata": {
    "tags": [],
    "cell_id": "00032-41b45a7d-254e-4400-8395-bd39f0ce5e9a",
    "deepnote_cell_type": "markdown"
   }
  },
  {
   "cell_type": "markdown",
   "source": [
    "## Campaign Performance Reporting "
   ],
   "metadata": {
    "tags": [],
    "cell_id": "00033-6e5e7245-532a-4a3a-bbb0-2f960e6e1e81",
    "deepnote_cell_type": "markdown"
   }
  },
  {
   "cell_type": "markdown",
   "source": [
    "The main functionality of this bot is to provide a campaign performance report from a marketing dataset. The report will be triggered by two commands:\n",
    "\n",
    "- **/summary**: provides quick text report of performance summary for selected campaign ID.\n",
    "- **/plot**: provides an image plot representation of selected campaign ID's performance and its description via voice note.\n",
    "\n",
    "We'll breakdown the process of each commands in the next part of this sub-section."
   ],
   "metadata": {
    "tags": [],
    "cell_id": "00034-a143113b-a11a-4514-830c-55d75f0cd0b1",
    "deepnote_cell_type": "markdown"
   }
  },
  {
   "cell_type": "markdown",
   "source": [
    "### Data Preparation"
   ],
   "metadata": {
    "tags": [],
    "cell_id": "00035-33678759-6943-4de0-8538-781fdb01f4c7",
    "deepnote_cell_type": "markdown"
   }
  },
  {
   "cell_type": "markdown",
   "source": [
    "**TO DO:**\n",
    "\n",
    "Let's start by reading our CSV data in. It's located in folder `data_input` and named `facebook_ads_v2.csv`. Don't forget to make sure that the value in each column has stored in the correct data type!"
   ],
   "metadata": {
    "tags": [],
    "cell_id": "00036-c13c6920-c940-4c24-a897-46584af31e7d",
    "deepnote_cell_type": "markdown"
   }
  },
  {
   "cell_type": "code",
   "execution_count": null,
   "source": [
    "import pandas as pd\r\n",
    "\r\n",
    "# TO DO: read data and convert data type\r\n",
    "df = pd.read_csv(___, parse_dates=___)\r\n",
    "df.head()"
   ],
   "outputs": [],
   "metadata": {
    "tags": [],
    "deepnote_to_be_reexecuted": false,
    "source_hash": "3fd4b32",
    "execution_start": 1629360585927,
    "execution_millis": 72,
    "cell_id": "00037-bcbed841-f4a0-48af-9c88-b9f68d20fca8",
    "output_cleared": true,
    "deepnote_cell_type": "code"
   }
  },
  {
   "cell_type": "markdown",
   "source": [
    "The data is downloaded from a  [Kaggle dataset repository](https://www.kaggle.com/madislemsalu/facebook-ad-campaign) provided by [Madis_Lemsalu](https://www.kaggle.com/madislemsalu). It contains daily ads report run on Facebook from different marketing campaign from 17th to 30th of August 2017. The variable includes:\n",
    "\n",
    "- `ad_id`: Unique identifier of the daily ads\n",
    "- `reporting_date`: The date of the generated report. \n",
    "- `campaign_id`: unique identifier of a campaign, one campaign could have several creative ads\n",
    "- `age`: The age group on which the ad is promoted\n",
    "- `gender`: The gender on which the ad is promoted\n",
    "- `interest1`, `interest2`, and `interest3`: The interest group id on which the ad is promoted\n",
    "- `impressions`: Number of people viewing the ad\n",
    "- `clicks`: Number of people clicking the ad\n",
    "- `spent`: Amount of marketing cost spent\n",
    "- `total_conversion`: Number of conversions (commonly a buying action) happened\n",
    "- `approved_conversion`: Number of approved conversions after cross checked with the actual business. In some cases, a conversion tracked by the ad doesn't really record with a complete buying action from the customers."
   ],
   "metadata": {
    "tags": [],
    "cell_id": "00038-0b4c6286-0c1a-4fc5-9de6-11cadd1c6f00",
    "deepnote_cell_type": "markdown"
   }
  },
  {
   "cell_type": "markdown",
   "source": [
    "**TO DO:**\r\n",
    "\r\n",
    "Since we expect both **/summary** & **/plot** to ask for `campaign_id` as reply options, in the cell below change the type of `campaign_id` to string and store its unique values into `unique_campaign` variable:"
   ],
   "metadata": {
    "tags": [],
    "cell_id": "00039-6cf05b28-7374-4d88-8c82-8fd84909fca0",
    "deepnote_cell_type": "markdown"
   }
  },
  {
   "cell_type": "code",
   "execution_count": null,
   "source": [
    "# TO DO: get unique values of campaign_id\r\n",
    "df['campaign_id'] = df['campaign_id'].astype(___)\r\n",
    "unique_campaign = ___\r\n",
    "\r\n",
    "unique_campaign"
   ],
   "outputs": [],
   "metadata": {
    "tags": [],
    "deepnote_to_be_reexecuted": false,
    "source_hash": "f3db8c0c",
    "execution_start": 1629360585975,
    "execution_millis": 24,
    "cell_id": "00040-5b29d5b5-e6ed-45a5-b663-fc3c90f6f12b",
    "output_cleared": true,
    "deepnote_cell_type": "code"
   }
  },
  {
   "cell_type": "markdown",
   "source": [
    "**EXPECTED OUTPUT:**\r\n",
    "\r\n",
    "```\r\n",
    "array(['916', '936', '1178', '1210'], dtype=object)\r\n",
    "````\r\n",
    "\r\n",
    "Be careful! Notice the following two points:\r\n",
    "\r\n",
    "1. `dtype` of the array must be an object.\r\n",
    "2. Each value in `unique_campaign` must be a string (denoted by single quotation mark) not an integer.\r\n",
    "    - CORRECT OUTPUT: `['916', '936', '1178', '1210']`\r\n",
    "    - WRONG OUTPUT: `[916, 936, 1178, 1210]`"
   ],
   "metadata": {
    "tags": [],
    "cell_id": "00041-f2090195-d6ea-4d23-8c64-2d2469f320ce",
    "deepnote_cell_type": "markdown"
   }
  },
  {
   "cell_type": "markdown",
   "source": [
    "### The `/summary` command"
   ],
   "metadata": {
    "tags": [],
    "cell_id": "00042-4321e0c3-6b9d-4fee-a503-59df266f26dc",
    "deepnote_cell_type": "markdown"
   }
  },
  {
   "cell_type": "markdown",
   "source": [
    "#### Preparing the Summary Output"
   ],
   "metadata": {
    "tags": [],
    "cell_id": "00043-32b205d3-c116-43c2-a8cd-f7021787f082",
    "deepnote_cell_type": "markdown"
   }
  },
  {
   "cell_type": "markdown",
   "source": [
    "This command is created to provide a quick text report of performance summary for selected campaign ID. The message template is stored on `template_text/summary.txt`.\n",
    "\n",
    "If you open up the text file, you'll find several `${variable}`s:\n",
    "\n",
    "- `CAMPAIGN_ID`: Selected Campaign ID\n",
    "- `START_DATE` & `END_DATE`: The start and end date (`reporting_date`) of generated report \n",
    "- `TOTAL_SPENT`: Total marketing cost spent (`spent`) on the campaign  \n",
    "- `TOTAL_CONVERSION`: Number of conversions (`total_conversion`) on the campaign\n",
    "- `CPC`: Cost-per-click (obtained by dividing the total spent with total conversion for each campaign)"
   ],
   "metadata": {
    "tags": [],
    "cell_id": "00044-62d97a80-fd2c-4632-8521-ccbf5003ca51",
    "deepnote_cell_type": "markdown"
   }
  },
  {
   "cell_type": "markdown",
   "source": [
    "**TO DO:**\n",
    "\n",
    "Find the range date (`start_date` and `end_date`) based on specified `campaign_id`:\n",
    "\n",
    "1. Filter the data based on `selected_campaign_id` and then assign as `df_campaign`. Since the value of `campaign_id` will be dynamic according to user input later, for now, let's just use campaign ID `1210` as an example.\n",
    "2. Get the minimum and maximum of `reporting_date` and return the date as string following the format of \"17 Aug 2017\". Assign as `start_date` and `end_date` respectively. Reference: [strftime cheatsheet](https://strftime.org/)"
   ],
   "metadata": {
    "tags": [],
    "cell_id": "00045-9a9b8b2a-0d85-49b4-b03d-b118a6de51aa",
    "deepnote_cell_type": "markdown"
   }
  },
  {
   "cell_type": "code",
   "execution_count": null,
   "source": [
    "# TO DO: find the range date\r\n",
    "selected_campaign_id = '1210'\r\n",
    "df_campaign = ___\r\n",
    "        \r\n",
    "start_date = df_campaign['reporting_date'].min().strftime(format=___)\r\n",
    "end_date = df_campaign['reporting_date'].max().strftime(format=___)\r\n",
    "\r\n",
    "# DO NOT EDIT (FOR CHECKING PURPOSE)\r\n",
    "print(f\"Start Date: {start_date}\")\r\n",
    "print(f\"End Date: {end_date}\")"
   ],
   "outputs": [],
   "metadata": {
    "tags": [],
    "deepnote_to_be_reexecuted": false,
    "source_hash": "332d60d4",
    "execution_start": 1629360585982,
    "execution_millis": 32,
    "cell_id": "00046-21c8765c-9c35-470e-b4a6-c30127c859e7",
    "output_cleared": true,
    "deepnote_cell_type": "code"
   }
  },
  {
   "cell_type": "markdown",
   "source": [
    "**EXPECTED OUTPUT:**\n",
    "\n",
    "```\n",
    "Start Date: 17 Aug 2017\n",
    "End Date: 30 Aug 2017\n",
    "```"
   ],
   "metadata": {
    "tags": [],
    "cell_id": "00047-30dcd982-b466-48ad-b139-934af0f6d9bc",
    "deepnote_cell_type": "markdown"
   }
  },
  {
   "cell_type": "markdown",
   "source": [
    "**TO DO:**\r\n",
    "\r\n",
    "From the filtered data (`df_campaign`), calculate the following metrics:\r\n",
    "\r\n",
    "1. `total_spent` is the total marketing cost spent (column `spent`) on the campaign, convert it to integer.\r\n",
    "2. `total_conversion` is the total number of conversions (column `total_conversion`) on the campaign, convert it to integer.\r\n",
    "3. `cpc` stands for cost-per-click, obtained by dividing the `total_spent` and `total_conversion`"
   ],
   "metadata": {
    "tags": [],
    "cell_id": "00048-39c4c7f0-48b6-4352-8d55-3343f19ce572",
    "deepnote_cell_type": "markdown"
   }
  },
  {
   "cell_type": "code",
   "execution_count": null,
   "source": [
    "# TO DO: perform calculation\r\n",
    "total_spent = ___\r\n",
    "total_conversion = ___\r\n",
    "cpc = ___\r\n",
    "\r\n",
    "# DO NOT EDIT (FOR CHECKING PURPOSE)\r\n",
    "print(f\"Total Spent: {total_spent}\")\r\n",
    "print(f\"Total Conversion: {total_conversion}\")\r\n",
    "print(f\"CPC: {cpc}\")"
   ],
   "outputs": [],
   "metadata": {
    "tags": [],
    "deepnote_to_be_reexecuted": false,
    "source_hash": "f421298f",
    "execution_start": 1629360586003,
    "execution_millis": 604409,
    "cell_id": "00049-24090ce3-bc75-4527-b856-10e068e9dc51",
    "output_cleared": true,
    "deepnote_cell_type": "code"
   }
  },
  {
   "cell_type": "markdown",
   "source": [
    "**EXPECTED OUTPUT:**\n",
    "\n",
    "```\n",
    "Total Spent: 39084\n",
    "Total Conversion: 1615\n",
    "CPC: 24.2\n",
    "```"
   ],
   "metadata": {
    "tags": [],
    "cell_id": "00050-e7ee4dc5-b970-4050-8dbd-05a3726bd023",
    "deepnote_cell_type": "markdown"
   }
  },
  {
   "cell_type": "markdown",
   "source": [
    "In Python, there is **formatted string literals** (f-strings for short). It allows you include the value of Python expressions inside a string by prefixing the string with `f` and writing expressions as `{expression}`.\r\n",
    "\r\n",
    "Take a look on the cell below. The syntax `f\"... {...}\"` indicates that we are using f-strings. Inside the curly bracket, we specify the expression as `{variable:formatting}`. The `variable` to be formatted is `example_cost`. The format `,.5f` means the following:\r\n",
    "- `,` for thousand separator\r\n",
    "- `.5f` for float rounding to five decimal places. Feel free to change the number of decimal places.\r\n",
    "\r\n",
    "Reference: [Python 3.8 Documentation on Fancier Output Formatting](https://docs.python.org/3.8/tutorial/inputoutput.html#fancier-output-formatting)"
   ],
   "metadata": {}
  },
  {
   "cell_type": "code",
   "execution_count": null,
   "source": [
    "# play around with f-strings\r\n",
    "example_cost = 1234.56789123456789\r\n",
    "f\"Value of cost is {example_cost:,.5f} IDR.\""
   ],
   "outputs": [],
   "metadata": {}
  },
  {
   "cell_type": "markdown",
   "source": [
    "**TO DO:**\r\n",
    "\r\n",
    "Complete the code below to read in `summary.txt` message template. It should be able to print out the template's variables filled in with the extracted information from the previous steps. Notice that you have to format `total_spent`, `total_conversion`, and `cpc` using f-strings **thousand separator** and **dollar sign**."
   ],
   "metadata": {
    "tags": [],
    "cell_id": "00051-4ad694f9-6750-4cc7-b703-18beed7a411b",
    "deepnote_cell_type": "markdown"
   }
  },
  {
   "cell_type": "code",
   "execution_count": null,
   "source": [
    "# TO DO: subtitute text with variables\r\n",
    "with open('template_text/summary.txt', mode='r', encoding='utf-8') as f:\r\n",
    "    content = f.read()\r\n",
    "    temp = Template(content)\r\n",
    "    summary = temp.substitute(\r\n",
    "        CAMPAIGN_ID = ___,\r\n",
    "        START_DATE = ___,\r\n",
    "        END_DATE = ___,\r\n",
    "        TOTAL_SPENT = ___,\r\n",
    "        TOTAL_CONVERSION = ___,\r\n",
    "        CPC = ___\r\n",
    "    )\r\n",
    "\r\n",
    "print(summary)"
   ],
   "outputs": [],
   "metadata": {
    "tags": [],
    "deepnote_to_be_reexecuted": false,
    "source_hash": "b1a01537",
    "execution_start": 1629360586050,
    "execution_millis": 2,
    "cell_id": "00052-76e48668-0bf9-429c-8927-dfde06b0b4cd",
    "output_cleared": true,
    "deepnote_cell_type": "code"
   }
  },
  {
   "cell_type": "markdown",
   "source": [
    "**EXPECTED OUTPUT:**\r\n",
    "\r\n",
    "```\r\n",
    "Reporting Facebook ads campaign performance for Campaign ID 1210 from 17 Aug 2017 to 30 Aug 2017:\r\n",
    "\r\n",
    "Total spent: $39,084 \r\n",
    "Total conversion: 1,615\r\n",
    "Cost per conversion gained: $24.2\r\n",
    "```"
   ],
   "metadata": {
    "tags": [],
    "cell_id": "00053-f2d19e28-d04a-4d15-a955-0bfb7ca34107",
    "deepnote_cell_type": "markdown"
   }
  },
  {
   "cell_type": "markdown",
   "source": [
    "#### Configure the Command"
   ],
   "metadata": {
    "tags": [],
    "cell_id": "00054-c5877bd0-f2ff-4b40-88dd-d62acbc070f5",
    "deepnote_cell_type": "markdown"
   }
  },
  {
   "cell_type": "markdown",
   "source": [
    "Let's now present our analysis result inside the Telegram Bot command. The expected flow is:\n",
    "\n",
    "1. User trigger the command with `/summary`\n",
    "2. The Bot will return a `ReplyKeyboardMarkup` which allows user to select which `campaign_id` they're interested in\n",
    "3. User select a `campaign_id`\n",
    "4. Bot return the campaign performance summary\n",
    "\n",
    "To illustrate the flow, take a look at the figure below:\n",
    "\n",
    "![](assets/summary.png)"
   ],
   "metadata": {
    "tags": [],
    "cell_id": "00055-8d207969-c481-4101-99d1-96d6383ae64f",
    "deepnote_cell_type": "markdown"
   }
  },
  {
   "cell_type": "markdown",
   "source": [
    "**TO DO:**\n",
    "\n",
    "Execute the following cell code (make sure to uncomment the `bot.polling()`) and send **/summary** command to the bot in order to understand what is `ReplyKeyboardMarkup` object and method `register_next_step_handler`."
   ],
   "metadata": {
    "tags": [],
    "cell_id": "00056-ec60482c-5a11-472a-9bfc-a0ef0e29014d",
    "deepnote_cell_type": "markdown"
   }
  },
  {
   "cell_type": "code",
   "execution_count": null,
   "source": [
    "import telebot\r\n",
    "from dotenv import load_dotenv\r\n",
    "import os\r\n",
    "\r\n",
    "load_dotenv()\r\n",
    "TOKEN = os.environ['TOKEN']\r\n",
    "bot = telebot.TeleBot(TOKEN)\r\n",
    "\r\n",
    "# FOCUS ON THIS PART\r\n",
    "@bot.message_handler(commands=['summary'])\r\n",
    "def ask_id_summary(message):\r\n",
    "    chat_id = message.chat.id\r\n",
    "\r\n",
    "    # 1. PREPARE ReplyKeyboardMarkup\r\n",
    "    markup = telebot.types.ReplyKeyboardMarkup(one_time_keyboard=True)\r\n",
    "\r\n",
    "    # 2. ADD BUTTON TO THE ReplyKeyboardMarkup\r\n",
    "    markup.add('First')\r\n",
    "    markup.add('Second')\r\n",
    "    markup.add('Third')\r\n",
    "\r\n",
    "    # 3. SEND MESSAGE\r\n",
    "    sent = bot.send_message(chat_id, 'This is ask_id_summary', reply_markup=markup)\r\n",
    "\r\n",
    "    # 4. TRIGGER send_summary FUNCTION\r\n",
    "    bot.register_next_step_handler(sent, send_summary)\r\n",
    "\r\n",
    "# 5. send_summary WILL BE EXECUTED\r\n",
    "def send_summary(message):\r\n",
    "    bot.reply_to(message, \"This is send_summary function\")\r\n",
    "    print(type(message.text))\r\n",
    "\r\n",
    "# bot.polling()"
   ],
   "outputs": [],
   "metadata": {
    "tags": [],
    "deepnote_to_be_reexecuted": false,
    "source_hash": "81124017",
    "execution_start": 1629360586051,
    "execution_millis": 7,
    "cell_id": "00057-a8ae3e7f-a436-4d2f-aed7-bc6c2d87cf0b",
    "output_cleared": true,
    "deepnote_cell_type": "code"
   }
  },
  {
   "cell_type": "markdown",
   "source": [
    "---\n",
    "\n",
    "📍 **CHECKPOINT 2**\n",
    "\n",
    "At this point, you have extract relevant information and present a text report of performance summary, but only for campaign ID `1210`.\n",
    "\n",
    "Now, complete the following function inside `bot_local.py`:\n",
    "\n",
    "- `ask_id_summary` will prompt a keyboard and ask the user to choose campaign ID to be summarized. This function will be triggered with **/summary** command.\n",
    "- `send_summary` will send a quick text report of performance summary for selected campaign ID. This function will be triggered after the user choose a campaign ID via `ask_id_summary`.\n",
    "\n",
    "Run your Python script and test how your Telegram bot works.\n",
    "\n",
    "---"
   ],
   "metadata": {
    "tags": [],
    "cell_id": "00058-9a5cb3ff-6680-4c62-8edf-3c0a40a30382",
    "deepnote_cell_type": "markdown"
   }
  },
  {
   "cell_type": "markdown",
   "source": [
    "### The `/plot` command "
   ],
   "metadata": {
    "tags": [],
    "cell_id": "00059-d60d3036-5f9e-47eb-860d-b73bc084690d",
    "deepnote_cell_type": "markdown"
   }
  },
  {
   "cell_type": "markdown",
   "source": [
    "Not only text messages, we can also send **image and audio output** via the Telegram bot. In this section, we want our bot to generate a plot to visualize Total Spent, Total Approved Conversion, and Average CPC (Cost per Conversion) across `age` group for selected `campaign_id`. From the visualization, there will be a voice message that summarize the insight of the plot."
   ],
   "metadata": {
    "tags": [],
    "cell_id": "00060-da82fd22-4338-49f5-a03b-3e86ab58827a",
    "deepnote_cell_type": "markdown"
   }
  },
  {
   "cell_type": "markdown",
   "source": [
    "#### Visualization"
   ],
   "metadata": {
    "tags": [],
    "cell_id": "00061-c55e16f3-54b1-4c43-9756-902af67ceb6c",
    "deepnote_cell_type": "markdown"
   }
  },
  {
   "cell_type": "markdown",
   "source": [
    "**TO DO:**\n",
    "\n",
    "Let's prepare the data before visualization:\n",
    "\n",
    "1. Filter the data based on `selected_campaign_id` and then assign as `df_campaign`. Since the value of `campaign_id` will be dynamic according to user input later, for now, let's just use campaign ID `1210` as an example.\n",
    "2. By using filtered data `df_campaign`, create an aggregation table to calculate the total of `spent` and `approved_conversion` for each `age` group. Assign as `df_plot`.\n",
    "3. From the aggregation table, create a new column `cpc` by dividing total `spent` by `approved_conversion`."
   ],
   "metadata": {
    "tags": [],
    "cell_id": "00062-d8b8621f-ba14-4897-ad83-32cd4d0354ba",
    "deepnote_cell_type": "markdown"
   }
  },
  {
   "cell_type": "code",
   "execution_count": null,
   "source": [
    "# TO DO: prepare data for visualization\r\n",
    "selected_campaign_id = '1210'\r\n",
    "df_campaign = ___\r\n",
    "df_plot = ___\r\n",
    "df_plot['cpc'] = ___\r\n",
    "df_plot"
   ],
   "outputs": [],
   "metadata": {
    "tags": [],
    "deepnote_to_be_reexecuted": false,
    "source_hash": "df89475c",
    "execution_start": 1629360586051,
    "execution_millis": 32,
    "is_code_hidden": false,
    "cell_id": "00063-d64e69e3-eb58-42aa-aad6-6e33880c056b",
    "output_cleared": true,
    "deepnote_cell_type": "code"
   }
  },
  {
   "cell_type": "markdown",
   "source": [
    "**EXPECTED OUTPUT:**\n",
    "\n",
    "|       |     spent    | approved_conversion |     cpc    |\n",
    "|:-----:|:------------:|:-------------------:|:----------:|\n",
    "|**age**|              |                     |            |\n",
    "| 30-34 |  7559.179992 |        166.0        |  45.537229 |\n",
    "| 35-39 |  5966.909990 |         78.0        |  76.498846 |\n",
    "| 40-44 |  7252.099982 |         88.0        |  82.410227 |\n",
    "| 45-49 | 18306.799997 |        162.0        | 113.004938 |"
   ],
   "metadata": {
    "tags": [],
    "cell_id": "00064-6cc2f674-4831-4280-be91-5c3cabbac526",
    "deepnote_cell_type": "markdown"
   }
  },
  {
   "cell_type": "markdown",
   "source": [
    "We are going to create bar plot of 3 values (total `spent`, `approved_conversion`, and `cpc`), so we need to use subplots for the visualization by using `plt.subplots()`. Then change the plot to frameless to make it look neater.\n",
    "\n",
    "**TO DO:**\n",
    "\n",
    "Complete the visual component:\n",
    "\n",
    "1. First subplot: bar plot of total `spent` per age group. Set the `color` parameter to #AE2024 (red) and the `ylabel` accordingly.\n",
    "2. Second subplot: bar plot of total `approved_conversion` per age group. Set the `color` parameter to #000000 (red) and the `ylabel` accordingly.\n",
    "3. Third subplot: bar plot of average `cpc` per age group. Set the `color` parameter to #AE2024 (red) and the `ylabel` accordingly.\n",
    "4. Set `xlabel` and `title` of the plot accordingly. Use the f-string formatting for `title` so that the title matches the selected `campaign_id`."
   ],
   "metadata": {
    "tags": [],
    "cell_id": "00065-b5f09103-68d5-412e-8d1a-50a71142ef5c",
    "deepnote_cell_type": "markdown"
   }
  },
  {
   "cell_type": "code",
   "execution_count": null,
   "source": [
    "import matplotlib.pyplot as plt\r\n",
    "\r\n",
    "# prepare 3 subplots vertically\r\n",
    "fig, axes = plt.subplots(3, sharex=True, dpi=300)\r\n",
    "\r\n",
    "# create frameless plot\r\n",
    "for ax in axes:\r\n",
    "    ax.spines['top'].set_visible(False)\r\n",
    "    ax.spines['right'].set_visible(False)\r\n",
    "    ax.spines['left'].set_visible(False)\r\n",
    "    ax.spines['bottom'].set_visible(False)\r\n",
    "\r\n",
    "# first subplot: total spent per age group\r\n",
    "axes[0].bar(x=___, height=___, color=___)\r\n",
    "axes[0].set_ylabel(___, fontsize=8)\r\n",
    "\r\n",
    "# second subplot: total approved conversion per age group\r\n",
    "axes[1].bar(x=___, height=___, color=___)\r\n",
    "axes[1].set_ylabel(___, fontsize=8)\r\n",
    "\r\n",
    "# third subplot: average CPC per age group\r\n",
    "axes[2].bar(x=___, height=___, color=___)\r\n",
    "axes[2].set_ylabel(___, fontsize=8)\r\n",
    "\r\n",
    "# set the label and title for plots\r\n",
    "plt.xlabel(___)\r\n",
    "axes[0].set_title(\r\n",
    "    f'''Average CPC, Total Spent, and Total Approved Conversion\r\n",
    "    across Age Group for Campaign ID: {selected_campaign_id}''');"
   ],
   "outputs": [],
   "metadata": {
    "tags": [],
    "deepnote_to_be_reexecuted": false,
    "source_hash": "3a2ce39",
    "execution_start": 1629360586076,
    "execution_millis": 702,
    "is_code_hidden": false,
    "cell_id": "00066-f4a8dab2-66e6-4287-bc67-d33d40da9d3f",
    "output_cleared": true,
    "deepnote_cell_type": "code"
   }
  },
  {
   "cell_type": "markdown",
   "source": [
    "**EXPECTED OUTPUT:**\n",
    "\n",
    "![](assets/plot.png)"
   ],
   "metadata": {
    "tags": [],
    "cell_id": "00067-e132458a-f1c5-40ac-9aee-b328071e08ae",
    "deepnote_cell_type": "markdown"
   }
  },
  {
   "cell_type": "markdown",
   "source": [
    "The visualization above will be sent to the user as `.png` image. Therefore, we should save the plot by using `plt.savefig` method provided on the skeleton file as follow:\n",
    "\n",
    "```py\n",
    "# create output folder\n",
    "if not os.path.exists('output'):\n",
    "    os.makedirs('output')\n",
    "\n",
    "# save plot\n",
    "plt.savefig('output/plot.png', bbox_inches='tight')\n",
    "```"
   ],
   "metadata": {
    "tags": [],
    "cell_id": "00068-00177e88-4223-4d74-a09d-f6199d574a4f",
    "deepnote_cell_type": "markdown"
   }
  },
  {
   "cell_type": "markdown",
   "source": [
    "---\n",
    "\n",
    "📍 **CHECKPOINT 3**\n",
    "\n",
    "At this point, you have created a plot but only for campaign ID `1210`.\n",
    "\n",
    "Now, complete the following function inside `bot_local.py`:\n",
    "\n",
    "- `ask_id_plot` will prompt a keyboard and ask the user to choose campaign ID to be summarized. This function will be triggered with **/plot** command.\n",
    "- `send_plot` will send a plot for selected campaign ID. This function will be triggered after the user choose a campaign ID via `ask_id_plot`.\n",
    "\n",
    "Run your Python script and test how your Telegram bot works.\n",
    "\n",
    "---"
   ],
   "metadata": {
    "tags": [],
    "cell_id": "00069-7ae50577-6293-4771-964b-373cc31a293d",
    "deepnote_cell_type": "markdown"
   }
  },
  {
   "cell_type": "markdown",
   "source": [
    "#### (EXTRA CHALLENGE) Voice Message"
   ],
   "metadata": {
    "tags": [],
    "cell_id": "00070-3d7a0e61-d406-4434-bb3a-23db23f41a42",
    "deepnote_cell_type": "markdown"
   }
  },
  {
   "cell_type": "markdown",
   "source": [
    "**This section is optional and doesn't account for any score to the rubrics**. Along with the plot, we can send a voice message to user about the age group with the highest and lowest number of average CPC, total spent, and total approved conversion."
   ],
   "metadata": {
    "tags": [],
    "cell_id": "00071-40fe7234-b9a6-4e7f-adc8-ab26514bc66d",
    "deepnote_cell_type": "markdown"
   }
  },
  {
   "cell_type": "code",
   "execution_count": null,
   "source": [
    "df_plot"
   ],
   "outputs": [],
   "metadata": {
    "tags": [],
    "deepnote_to_be_reexecuted": false,
    "source_hash": "46ed7f7a",
    "execution_start": 1629360586776,
    "execution_millis": 103,
    "cell_id": "00072-7136c520-f41e-4054-a488-cca9a68fc8f1",
    "output_cleared": true,
    "deepnote_cell_type": "code"
   }
  },
  {
   "cell_type": "markdown",
   "source": [
    "**TO DO:**\n",
    "\n",
    "Using the code below, extract both minimum and maximum values of the index from the aggregation table `df_plot`. Example: for column `spent`, the age group with the lowest (minimum) values is 35-39. On the other hand, the highest (maximum) is 45-49."
   ],
   "metadata": {
    "tags": [],
    "cell_id": "00073-4827907e-8f73-448f-9240-73f1c08508f5",
    "deepnote_cell_type": "markdown"
   }
  },
  {
   "cell_type": "code",
   "execution_count": null,
   "source": [
    "# VOICE MESSAGE\r\n",
    "plot_info = list(zip(\r\n",
    "    [___, ___, ___],\r\n",
    "    ___,\r\n",
    "    ___))\r\n",
    "\r\n",
    "plot_text = f'This is your requested plot for Campaign ID {selected_campaign_id}.\\n'\r\n",
    "for col, maxi, mini in plot_info:\r\n",
    "    text = f\"Age group with the highest {col} is {maxi}, while the lowest is {mini}.\\n\"\r\n",
    "    plot_text += text\r\n",
    "\r\n",
    "print(plot_text)"
   ],
   "outputs": [],
   "metadata": {
    "tags": [],
    "deepnote_to_be_reexecuted": false,
    "source_hash": "ee6dfbab",
    "execution_start": 1629360672286,
    "execution_millis": 10,
    "cell_id": "00074-2cf59539-6aa5-4076-8498-00d8638db52a",
    "output_cleared": true,
    "deepnote_cell_type": "code"
   }
  },
  {
   "cell_type": "markdown",
   "source": [
    "**EXPECTED OUTPUT:**\n",
    "\n",
    "```\n",
    "This is your requested plot for Campaign ID 1210.\n",
    "Age group with the highest total spent is 45-49, while the lowest is 35-39.\n",
    "Age group with the highest total approved conversion is 30-34, while the lowest is 35-39.\n",
    "Age group with the highest average CPC is 45-49, while the lowest is 30-34.\n",
    "```"
   ],
   "metadata": {
    "tags": [],
    "cell_id": "00075-1e79fe5c-390b-4a61-89ee-d9e94a6de3ef",
    "deepnote_cell_type": "markdown"
   }
  },
  {
   "cell_type": "markdown",
   "source": [
    "The text above will be sent to the user as voice message. By using `gTTS` library (which stands for Google Text-to-Speech), we can convert `plot_text` to a speech. We will save the speech into `.ogg` file (extension for voice note) by using `.save()` method provided on the skeleton file as follow:\n",
    "\n",
    "```\n",
    "speech = gTTS(text = plot_text)\n",
    "speech.save('output/plot_info.ogg')\n",
    "```\n",
    "\n",
    "> Package dependencies: [gTTS](https://gtts.readthedocs.io/en/latest/module.html#module-gtts.tts)\n",
    "\n",
    "The voice message will be sent to the user by using `bot.send_voice()` method provided on the skeleton file:\n",
    "\n",
    "```\n",
    "with open('output/plot_info.ogg', 'rb') as f:\n",
    "    bot.send_voice(chat_id, f)\n",
    "```"
   ],
   "metadata": {
    "tags": [],
    "cell_id": "00076-c2d784f4-a5ff-49b1-9eb0-6ff9cdddc07d",
    "deepnote_cell_type": "markdown"
   }
  },
  {
   "cell_type": "markdown",
   "source": [
    "**EXPECTED OUTPUT:** Run the following cell and play the audio to hear the final output of the voice message. You don't have to put the following code in your script."
   ],
   "metadata": {
    "tags": [],
    "cell_id": "00077-ef6865d1-7a7f-4304-8dc4-1423e0e4a360",
    "deepnote_cell_type": "markdown"
   }
  },
  {
   "cell_type": "code",
   "execution_count": null,
   "source": [
    "from IPython.display import Audio\r\n",
    "Audio('assets/plot_info.ogg')"
   ],
   "outputs": [],
   "metadata": {
    "tags": [],
    "deepnote_to_be_reexecuted": false,
    "source_hash": "4e87712c",
    "execution_start": 1629362038087,
    "execution_millis": 20,
    "cell_id": "00078-3e54faaf-5a9f-4df4-a8bf-7df1332c1d24",
    "output_cleared": true,
    "deepnote_cell_type": "code"
   }
  },
  {
   "cell_type": "markdown",
   "source": [
    "---\n",
    "\n",
    "📍 **CHECKPOINT 3**\n",
    "\n",
    "If you have done the extra challenge, copy and paste your code inside `send_plot` function so that the bot will send voice message after the plot is being sent.\n",
    "\n",
    "Run your Python script and test how your Telegram bot works.\n",
    "\n",
    "---"
   ],
   "metadata": {
    "tags": [],
    "cell_id": "00079-c07bad5f-3183-47e7-836d-b259d7d9bb29",
    "deepnote_cell_type": "markdown"
   }
  },
  {
   "cell_type": "markdown",
   "source": [
    "## Default Message Handler"
   ],
   "metadata": {
    "tags": [],
    "cell_id": "00080-585126fa-c188-433d-9d95-15dd13c471e3",
    "deepnote_cell_type": "markdown"
   }
  },
  {
   "cell_type": "markdown",
   "source": [
    "From the point of view of a sender, they expect that every message to be responded. Therefore, we need to create a **default message handler** that will handle cases outside of the functionality that we provide.\n",
    "\n",
    "The function `echo_all` below serves as a default message handler, which echoes all incoming text messages back to the sender. It uses a `lambda` function to test a message. If the `lambda` returns `True`, the message is handled by the function. Since we want all messages to be handled by `echo_all`, we simply always return `True`.\n",
    "\n",
    "**TO DO:**\n",
    "\n",
    "Try to execute the code cell below and test how the bot works by sending messages **other than /start or /help**."
   ],
   "metadata": {
    "tags": [],
    "cell_id": "00081-ed1e7724-6155-4e5b-a228-47c111f7239d",
    "deepnote_cell_type": "markdown"
   }
  },
  {
   "cell_type": "code",
   "execution_count": null,
   "source": [
    "import telebot\r\n",
    "bot = telebot.TeleBot(TOKEN)\r\n",
    "\r\n",
    "@bot.message_handler(commands=['start', 'help'])\r\n",
    "def send_welcome(message):\r\n",
    "    bot.reply_to(message, \"Hello World!\")\r\n",
    "\r\n",
    "# FOCUS ON THIS PART\r\n",
    "@bot.message_handler(func=lambda m: True)\r\n",
    "def echo_all(message):\r\n",
    "\tbot.reply_to(message, \"This is echo_all function\")\r\n",
    "\r\n",
    "# bot.polling()"
   ],
   "outputs": [],
   "metadata": {
    "tags": [],
    "deepnote_to_be_reexecuted": false,
    "source_hash": "e196b1cc",
    "execution_start": 1628154065466,
    "execution_millis": 18,
    "cell_id": "00082-2d3ec69a-fa1f-47d1-bc9c-396d387f2ecb",
    "output_cleared": true,
    "deepnote_cell_type": "code"
   }
  },
  {
   "cell_type": "markdown",
   "source": [
    "**NOTE:** all message handlers are tested in the order in which they were declared, so it is a common practice to put the `echo_all` function at the very bottom of the Python script."
   ],
   "metadata": {
    "tags": [],
    "cell_id": "00083-e8408311-7a13-47f8-a04d-8cb91a672a28",
    "deepnote_cell_type": "markdown"
   }
  },
  {
   "cell_type": "markdown",
   "source": [
    "## Emoji"
   ],
   "metadata": {
    "tags": [],
    "cell_id": "00084-f7ca1733-55a7-4da2-9079-084d0eb27524",
    "deepnote_cell_type": "markdown"
   }
  },
  {
   "cell_type": "markdown",
   "source": [
    "Who doesn't love to use emojis while chatting? We often use '👍' to express good/okay or even '💖' to express love. It can affect how people communicate via text messages as we read them as a form of emotional communication, not words. The entire set of Emoji codes as defined by the [Unicode Consortium](https://unicode.org/consortium/consort.html) is supported in addition to a bunch of aliases.\n",
    "\n",
    "We want our bot to be able to send an emoji inside the default message handler. By using the `.emojize()` method from package `emoji`, we can translate emoji aliases to its graphical representation. See the example below, the emoji alias `:snake:` is translated into 🐍.\n",
    "\n",
    "> Package dependencies: [emoji](https://pypi.org/project/emoji/)"
   ],
   "metadata": {
    "tags": [],
    "cell_id": "00085-bf7bb8da-997e-4d2b-90e0-cb3d1eca98c3",
    "deepnote_cell_type": "markdown"
   }
  },
  {
   "cell_type": "code",
   "execution_count": null,
   "source": [
    "import emoji\r\n",
    "emoji.emojize('Python is :snake:')"
   ],
   "outputs": [],
   "metadata": {
    "tags": [],
    "deepnote_to_be_reexecuted": false,
    "source_hash": "b65cf0c4",
    "execution_start": 1629362669796,
    "execution_millis": 19,
    "cell_id": "00086-847fcf75-9b8f-4f52-9a3b-fbc86a48bddc",
    "output_cleared": true,
    "deepnote_cell_type": "code"
   }
  },
  {
   "cell_type": "markdown",
   "source": [
    "**TO DO:**\n",
    "\n",
    "Try to complete the following message from `template_text/default.txt` with an appropriate emoji:\n",
    "\n",
    "```\n",
    "Sorry, I don't understand your message ${EMOJI}\n",
    "Use /help to see the list of available commands.\n",
    "```\n",
    "\n",
    "Scan through the list of all available emoji here: https://carpedm20.github.io/emoji/"
   ],
   "metadata": {
    "tags": [],
    "cell_id": "00087-028dacd0-da10-476d-b63a-d499be9221e2",
    "deepnote_cell_type": "markdown"
   }
  },
  {
   "cell_type": "code",
   "execution_count": null,
   "source": [
    "# TO DO: emoji\r\n",
    "with open('template_text/default.txt', mode='r', encoding='utf-8') as f:\r\n",
    "        temp = Template(f.read())\r\n",
    "        default = temp.substitute(___ = ___)\r\n",
    "\r\n",
    "print(default)"
   ],
   "outputs": [],
   "metadata": {
    "tags": [],
    "deepnote_to_be_reexecuted": false,
    "source_hash": "44b192b",
    "execution_start": 1629362688184,
    "execution_millis": 14,
    "cell_id": "00088-6f59eff5-3e5a-4e9d-be5b-ec53003cb782",
    "output_cleared": true,
    "deepnote_cell_type": "code"
   }
  },
  {
   "cell_type": "markdown",
   "source": [
    "---\n",
    "\n",
    "📍 **CHECKPOINT 4**\n",
    "\n",
    "At this point, you have already understood how to:\n",
    "\n",
    "- Use default message handler\n",
    "- Use emoji in a text message programmatically\n",
    "\n",
    "Now, complete `echo_all` function inside `bot_local.py` that will send a default message when the text message by the sender is other than **/start**, **/help**, **/about**, **/summary**, or **/plot**.\n",
    "\n",
    "Run your Python script and test how your Telegram bot works. Make sure **all functionalities** of your bot run smoothly without error before going to the Deployment section.\n",
    "\n",
    "---"
   ],
   "metadata": {
    "tags": [],
    "cell_id": "00089-6c95feb2-2295-4ec7-bcdc-3ffd0fe7ed75",
    "deepnote_cell_type": "markdown"
   }
  },
  {
   "cell_type": "markdown",
   "source": [
    "# Deployment"
   ],
   "metadata": {
    "tags": [],
    "cell_id": "00090-9bc9bdec-4aea-4c60-85d3-bdb90ee43d97",
    "deepnote_cell_type": "markdown"
   }
  },
  {
   "cell_type": "markdown",
   "source": [
    "Congratulations! At this point, you have finished creating a Telegram bot. But if you are aware, you have to run the code continuously on a local computer to keep the bot active. Well, in this section we will learn how to serve your Python script as an application that can be run on a server. This process is also known as **deployment**, which is one of the software development activities that enable a system to be available for use by the intended users.\n",
    "\n",
    "Later, we are going to deploy the Python script to Heroku server:\n",
    "\n",
    "![](assets/telebot_request_response.png)"
   ],
   "metadata": {
    "tags": [],
    "cell_id": "00091-d2c8365d-97d5-4a96-bef6-05c91341b710",
    "deepnote_cell_type": "markdown"
   }
  },
  {
   "cell_type": "markdown",
   "source": [
    "## Flask (Web Framework)"
   ],
   "metadata": {
    "tags": [],
    "cell_id": "00092-8fc270ea-8a66-4887-806e-af5678d5d850",
    "deepnote_cell_type": "markdown"
   }
  },
  {
   "cell_type": "markdown",
   "source": [
    "You will need a web framework to serve the Python script as a web application. `Flask` is one of them, it is a micro web framework written in Python. The word \"micro\" means it does not require particular tools or libraries. A minimal Flask application looks something like this:"
   ],
   "metadata": {
    "tags": [],
    "cell_id": "00093-8a403bb4-f4b3-48b5-9de7-3368fe3eeb38",
    "deepnote_cell_type": "markdown"
   }
  },
  {
   "cell_type": "code",
   "execution_count": null,
   "source": [
    "from flask import Flask\r\n",
    "app = Flask(__name__)\r\n",
    "\r\n",
    "@app.route(\"/\")\r\n",
    "def hello():\r\n",
    "    return \"Hello World!\"\r\n",
    "\r\n",
    "@app.route(\"/home\")\r\n",
    "def home():\r\n",
    "    return \"This is home page.\"\r\n",
    "\r\n",
    "if __name__ == \"__main__\":\r\n",
    "    app.run()"
   ],
   "outputs": [],
   "metadata": {
    "tags": [],
    "deepnote_to_be_reexecuted": false,
    "source_hash": "fffe09cc",
    "execution_start": 1628154065581,
    "execution_millis": 1010,
    "cell_id": "00094-0b9ca8ab-c2fd-42bc-8227-3aec071303bd",
    "output_cleared": true,
    "deepnote_cell_type": "code"
   }
  },
  {
   "cell_type": "markdown",
   "source": [
    "**TO DO:**\n",
    "\n",
    "Try to understand the code above by executing the cell code. You will be prompted with an URL such as `http://127.0.0.1:5000/`, click the link or access the web application via a browser. It will show a simple web application that displays \"Hello World!\"."
   ],
   "metadata": {
    "tags": [],
    "cell_id": "00095-83bc4697-a9df-4879-9251-d3db52d2da36",
    "deepnote_cell_type": "markdown"
   }
  },
  {
   "cell_type": "markdown",
   "source": [
    "So what did that code do?\n",
    "\n",
    "1. We create an `app` object from the `Flask` class. This will be our web application. The first argument is the name of the application’s module or package. `__name__` is a convenient shortcut for this that is appropriate for most cases.\n",
    "\n",
    "2. We use `@app.route()` to tell `Flask` what URL should trigger the function. From the code above, there are two **endpoints**:\n",
    "\n",
    "    a. If the user access URL `\"/\"`, the function `hello()` will be triggered and return the string \"Hello World!\".\n",
    "\n",
    "    b. If the user access URL `\"/home\"`, the function `home()` will be triggered and return the string \"This is home page.\"\n",
    "\n",
    "    **NOTE:** The function can have an arbitrary name, however, make it as descriptive as possible.\n",
    "\n",
    "3. `app.run()` will run the application. If you run it locally, then the application will be served on the **localhost**. Additionally, conditional `if __name__ == \"__main__\"` is used to prevent the app from being run when the modules are imported by another Python script.\n",
    "\n",
    "> Package dependencies: [Flask](https://flask.palletsprojects.com/en/2.0.x/)"
   ],
   "metadata": {
    "tags": [],
    "cell_id": "00096-7dbde92c-c595-4196-a9a9-98d9803b2efe",
    "deepnote_cell_type": "markdown"
   }
  },
  {
   "cell_type": "markdown",
   "source": [
    "**TO DO:**\n",
    "\n",
    "Open `app.py` and try to understand the code structure. You **do not need** to run the script.\n",
    "\n",
    "Notice the following points on the Python script:\n",
    "\n",
    "1. We are using the `bot` object which is imported from `bot_local.py`.\n",
    "2. `bot.polling()` is no longer used, instead we use `bot.process_new_updates()` and `bot.set_webhook()`"
   ],
   "metadata": {
    "tags": [],
    "cell_id": "00097-4b39fd7f-edc4-46be-8aa5-96f6c616eb95",
    "deepnote_cell_type": "markdown"
   }
  },
  {
   "cell_type": "markdown",
   "source": [
    "## Webhook"
   ],
   "metadata": {
    "tags": [],
    "cell_id": "00098-4264fdaa-07a2-4962-b912-5d80e940c0d7",
    "deepnote_cell_type": "markdown"
   }
  },
  {
   "cell_type": "markdown",
   "source": [
    "Instead of using the polling mechanism as you have already completed in `bot_local.py`, we are going to use the webhook mechanism in `app.py`.\n",
    "\n",
    "![](assets/polling_vs_webhook.png)\n",
    "\n",
    "Source: [Cloud Elements](https://blog.cloud-elements.com/webhooks-vs-polling-youre-better-than-this)\n",
    "\n",
    "**Polling (pull) mechanism:** Your app will check the Telegram server whether there is any new data or not. This means the process is exhaustive and there are chances that a chat won't be processed immediately until the next polling occurs in the endpoint.\n",
    "\n",
    "**Webhook (push) mechanism:** The endpoint will notify your app when there is new data to be processed. Since event data is posted immediately to your monitored URL, the app will automatically update itself with the new data almost instantly.\n",
    "\n",
    "> To gain an in-depth understanding of Telegram webhook, please visit: https://core.telegram.org/bots/webhooks"
   ],
   "metadata": {
    "tags": [],
    "cell_id": "00099-52f4a89c-e368-4312-8c29-cbb606a08492",
    "deepnote_cell_type": "markdown"
   }
  },
  {
   "cell_type": "markdown",
   "source": [
    "When using Telegram webhook, it sends one update per call. You should use `bot.process_new_messages([update.message])` when you receive it on your application.\n",
    "\n",
    "When using `bot.set_webhook()`, we need to use a publically available URL that the Telegram servers can reach. Therefore, in the next section, we'll create a Heroku project.\n",
    "\n",
    "> Code `app.py` is adapted from: https://github.com/eternnoir/pyTelegramBotAPI/blob/master/examples/webhook_examples/webhook_flask_heroku_echo.py"
   ],
   "metadata": {
    "tags": [],
    "cell_id": "00100-88228194-a5e2-4114-a97d-c6d42f674c27",
    "deepnote_cell_type": "markdown"
   }
  },
  {
   "cell_type": "markdown",
   "source": [
    "## Heroku"
   ],
   "metadata": {
    "tags": [],
    "cell_id": "00101-a7ddf4c6-0faa-4cb7-983f-9ec617ce8ea5",
    "deepnote_cell_type": "markdown"
   }
  },
  {
   "cell_type": "markdown",
   "source": [
    "[Heroku](https://www.heroku.com/) is a platform as a service (PaaS) that enables developers to build, run, and operate applications entirely in the cloud. We are going to deploy our `Flask` app to Heroku **for free**."
   ],
   "metadata": {
    "tags": [],
    "cell_id": "00102-bf739cad-8646-4a35-8267-6def44ae5565",
    "deepnote_cell_type": "markdown"
   }
  },
  {
   "cell_type": "markdown",
   "source": [
    "### Create Heroku account"
   ],
   "metadata": {
    "tags": [],
    "cell_id": "00103-0d24e1d9-8911-44ef-a68a-b0df8d27b3c4",
    "deepnote_cell_type": "markdown"
   }
  },
  {
   "cell_type": "markdown",
   "source": [
    "**TO DO:** Please register a Heroku account. If you already have it, you can skip this section.\n",
    "\n",
    "1. Visit https://signup.heroku.com/\n",
    "2. Fill in the registration form:\n",
    "    - **First and last name**\n",
    "    - **Email address**: Make sure to register an active email\n",
    "    - **Company name** (optional): Algoritma\n",
    "    - **Role**: Student\n",
    "    - **Country**: Indonesia\n",
    "    - **Primary development language**: Python\n",
    "3. Fill in the captcha and click **Create Free Account**\n",
    "4. Check your email (folder inbox or spam) and **activate** your Heroku account by clicking the link\n",
    "5. Set your **password** and log in to Heroku\n",
    "6. You'll be redirected to the \"Terms of Service\" page. Scroll down and click **Accept**.\n",
    "7. Congratulations, you have successfully created a free Heroku account!"
   ],
   "metadata": {
    "tags": [],
    "cell_id": "00104-323db69f-7e22-4795-a6f7-bd333aefc66c",
    "deepnote_cell_type": "markdown"
   }
  },
  {
   "cell_type": "markdown",
   "source": [
    "### Create Heroku app"
   ],
   "metadata": {
    "tags": [],
    "cell_id": "00105-69606fcd-e172-475f-9bc0-f5e4057b9542",
    "deepnote_cell_type": "markdown"
   }
  },
  {
   "cell_type": "markdown",
   "source": [
    "**TO DO:** Create a new app on Heroku.\n",
    "\n",
    "1. In your [dashboard](https://dashboard.heroku.com/apps), click **Create new app** under **New**.\n",
    "\n",
    "![](assets/heroku/1_dashboard_heroku.png)\n",
    "\n",
    "2. Fill in the [Create New App](https://dashboard.heroku.com/new-app) form:\n",
    "    - **App name**: you can choose an arbitrary name, but please note that it must be **globally unique** on Heroku.\n",
    "    - **Region**: United States\n",
    "    - Click the **Create app** button\n",
    "\n",
    "![](assets/heroku/2_create_new_app.png)\n",
    "\n",
    "3. Congratulations, you have successfully created a new Heroku app."
   ],
   "metadata": {
    "tags": [],
    "cell_id": "00106-f7130d9c-9a50-4614-b98a-603ce2a376db",
    "deepnote_cell_type": "markdown"
   }
  },
  {
   "cell_type": "markdown",
   "source": [
    "### Deploy the app"
   ],
   "metadata": {
    "tags": [],
    "cell_id": "00107-4d628b4d-df6e-4cdf-88f0-32822d3fc8ce",
    "deepnote_cell_type": "markdown"
   }
  },
  {
   "cell_type": "markdown",
   "source": [
    "**TO DO:** Deploy `Flask` app to Heroku\n",
    "\n",
    "1. Edit the value of variable `heroku_app_name` in `app.py` according to your Heroku application name in the previous step.\n",
    "\n",
    "2. Run `app.py` **locally** and access the **localhost** URL via browser. If done correctly, it will display the \"Bot is running\".\n",
    "\n",
    "3. Make sure the following files and folders are in your project folder, and ready for deployment:\n",
    "    - Folders:\n",
    "        - [ ] `data_input`: Dataset for analysis\n",
    "        - [ ] `template_text`: Text files for chat template\n",
    "    - Application-related Files:\n",
    "        - [ ] `app.py`: Main `Flask` application\n",
    "        - [ ] `bot_local.py`: Telegram bot\n",
    "    - Deployment-related Files:\n",
    "        - [ ] `.gitignore`: List of file extensions to be ignored when `git push` from local\n",
    "        - [ ] `Procfile`: Commands for app's dynos on Heroku\n",
    "        - [ ] `requirements.txt`: List of package dependencies to be installed on Heroku\n",
    "        - [ ] `runtime.txt`: Python version to be installed on Heroku\n",
    "\n",
    "4. Commit and push all files and folders to your own GitHub Repository.\n",
    "\n",
    "5. In Heroku, there are two options of deployment method: via Heroku CLI or GitHub.\n",
    "\n",
    "    We recommend you to use **GitHub** since it is the simplest method, but if you are comfortable with using Heroku CLI then go ahead by referring to the tutorial provided on [here](https://devcenter.heroku.com/articles/heroku-cli). If you are using Heroku for the first time, click **Connect to GitHub**.\n",
    "\n",
    "![](assets/heroku/3_deploy_app.png)\n",
    "\n",
    "6. After your Heroku and GitHub are connected, search for the repository to connect to. Click **Search** then **Connect**.\n",
    "\n",
    "![](assets/heroku/4_connect_to_github.png)\n",
    "\n",
    "7. **Optionally**, you can click Enable Automatic Deploys which will automatically re-deploy every time there are any changes to the GitHub Repository (less recommended if the code may contain an error).\n",
    "\n",
    "8. Click **Deploy Branch** to deploy the app and wait for Heroku to install Python and its dependencies (2-3 minutes).\n",
    "\n",
    "![](assets/heroku/5_deploy_github.png)\n",
    "\n",
    "9. Congratulations, your `Flask` app has been deployed to Heroku with URL: `https://<YOUR_APP_NAME>.herokuapp.com/`. Click **View** to open your application.\n",
    "\n",
    "![](assets/heroku/6_success_deploy.png)\n",
    "\n",
    "But wait... why does it says \"Application Error\" when we open the URL? :(\n",
    "\n",
    "**NOTE:** It is a good practice to see your application logs when an error happened. In the upper right corner of the page, click **View logs** under **More**.\n",
    "\n",
    "![](assets/heroku/7_view_logs.png)\n",
    "\n",
    "From the application logs, there is one line that states the following error:\n",
    "\n",
    "    app[web.1]: KeyError: 'TOKEN'\n",
    "\n",
    "Could you guess what caused the error to occur?"
   ],
   "metadata": {
    "tags": [],
    "cell_id": "00108-6f2dd29b-f3e6-46a7-bfc3-c7a9bf35cf58",
    "deepnote_cell_type": "markdown"
   }
  },
  {
   "cell_type": "markdown",
   "source": [
    "### Set Configuration Variables"
   ],
   "metadata": {
    "tags": [],
    "cell_id": "00109-5cfab6b3-1550-4ee6-a8fe-3acde8ec5c5b",
    "deepnote_cell_type": "markdown"
   }
  },
  {
   "cell_type": "markdown",
   "source": [
    "If you remember, the `TOKEN` variable is stored inside the `.env` file which was not pushed to GitHub, as it contains a confidential key. Therefore our deployed application won't recognize the `TOKEN` value. \n",
    "\n",
    "**TO DO:** To resolve this problem, we have to set configuration variables on Heroku.\n",
    "\n",
    "1. Go to **Settings** menu and click **Reveal Config Vars**\n",
    "\n",
    "![](assets/heroku/8_config_vars.png)\n",
    "\n",
    "2. Enter the following information:\n",
    "    - For the KEY field, type `TOKEN`\n",
    "    - For the VALUE field, copy and paste the Telegram API Token given by BotFather (without quotation marks `\"`)\n",
    "\n",
    "3. Click **Add** and try to open the application again. If it displays \"Bot is running\", then congratulations, you have successfully deployed a Telegram bot. Now you can test how does your bot works.\n",
    "\n",
    "**NOTE:** Once deployed, the script `bot_local.py` cannot be run again because one API token can only be accessed by one connection (which is your Heroku app). If you wish to develop another bot functionality, you can refer to the next section **Common Issue**."
   ],
   "metadata": {
    "tags": [],
    "cell_id": "00110-9045fb28-7489-438b-910a-68ef69ee9952",
    "deepnote_cell_type": "markdown"
   }
  },
  {
   "cell_type": "markdown",
   "source": [
    "# (OPTIONAL) Common Issue"
   ],
   "metadata": {
    "tags": [],
    "cell_id": "00111-bdcd31d8-31b6-4db6-ac4e-1df0464af0af",
    "deepnote_cell_type": "markdown"
   }
  },
  {
   "cell_type": "markdown",
   "source": [
    "## Error\n",
    "\n",
    "```\n",
    "ERROR - TeleBot: \"A request to the Telegram API was unsuccessful. Error code: 409. Description: Conflict: can't use getUpdates method while webhook is active; use deleteWebhook to delete the webhook first\"\n",
    "```\n",
    "\n",
    "## Problem\n",
    "\n",
    "Your token was previously attached to the Heroku app via `bot.set_webhook()`. Polling mode (with `getUpdates`) can only be run once at a time **and only if** Webhook is not set. In conclusion, you cannot run `bot.polling()` in local with the same token after your code is successfully deployed.\n",
    "\n",
    "## Solution\n",
    "\n",
    "If you decided to develop another functionality for your main chatbot, it is recommended to create a second bot for development. Then **overwrite** the `TOKEN` variable as follows:\n",
    "\n",
    "```\n",
    "load_dotenv()\n",
    "TOKEN = os.environ['TOKEN'] # token for main chatbot\n",
    "TOKEN = \"...\" # token for the development chatbot\n",
    "bot = telebot.TeleBot(TOKEN)\n",
    "```\n",
    "\n",
    "If you are planning to re-deploy your main chatbot to Heroku after you finished the development phase in local mode using `bot.polling()`, don't forget to **remove the token for the development chatbot** from `app.py` as follows:\n",
    "\n",
    "```\n",
    "load_dotenv()\n",
    "TOKEN = os.environ['TOKEN'] # token for main chatbot\n",
    "bot = telebot.TeleBot(TOKEN)\n",
    "```\n",
    "\n",
    "If you already re-deploy the app then somehow forget to remove the token for the development chatbot from the previous step and you don't want to create a new bot account, the alternative solution is to **revoke the access token** so that the chatbot can be re-use for later development:\n",
    "\n",
    "1. Go to BotFather: http://t.me/BotFather\n",
    "2. Use the command `/revoke`\n",
    "3. Choose your development bot username\n",
    "4. BotFather will reset the TOKEN"
   ],
   "metadata": {
    "tags": [],
    "cell_id": "00112-0a39cd05-19f0-43b7-83ac-35aa22d146b7",
    "deepnote_cell_type": "markdown"
   }
  }
 ],
 "nbformat": 4,
 "nbformat_minor": 2,
 "metadata": {
  "orig_nbformat": 2,
  "deepnote": {
   "is_reactive": false
  },
  "deepnote_notebook_id": "72cfd8e6-ebbd-4e48-a3e1-6b3347e78df3",
  "deepnote_execution_queue": [],
  "language_info": {
   "name": "python",
   "version": "3.8.10",
   "mimetype": "text/x-python",
   "codemirror_mode": {
    "name": "ipython",
    "version": 3
   },
   "pygments_lexer": "ipython3",
   "nbconvert_exporter": "python",
   "file_extension": ".py"
  },
  "kernelspec": {
   "name": "python3",
   "display_name": "Python 3.8.10 64-bit ('capstone-telebot': conda)"
  },
  "interpreter": {
   "hash": "b0cc6246658d6d2ae38104c1bf6394f3a5d45555c400a261aaf30967466757be"
  }
 }
}